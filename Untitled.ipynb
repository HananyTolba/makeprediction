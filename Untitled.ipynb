{
 "cells": [
  {
   "cell_type": "code",
   "execution_count": null,
   "metadata": {},
   "outputs": [],
   "source": []
  },
  {
   "cell_type": "code",
   "execution_count": null,
   "metadata": {},
   "outputs": [],
   "source": [
    "\n"
   ]
  },
  {
   "cell_type": "code",
   "execution_count": 55,
   "metadata": {},
   "outputs": [],
   "source": [
    "import requests\n",
    "import numpy as np\n",
    "import json\n",
    "\n",
    "\n",
    "y  = np.random.rand(1,600)\n",
    "y = y.reshape(1, -1)\n",
    "data = {\"inputs\": y.tolist()}\n",
    "\n",
    "url = \"http://localhost:8501/v1/models/rbf_1d:predict\"\n",
    "url = \"http://localhost:8502/v1/models/matern12_1d:predict\"\n",
    "\n",
    "\n"
   ]
  },
  {
   "cell_type": "code",
   "execution_count": 57,
   "metadata": {},
   "outputs": [
    {
     "name": "stdout",
     "output_type": "stream",
     "text": [
      "<Response [200]>\n",
      "{'outputs': [[0.946234941, 0.293899238]]}\n"
     ]
    }
   ],
   "source": [
    "url = \"http://localhost/rbf_1d\"\n",
    "\n",
    "\n",
    "with requests.Session() as session:\n",
    "    response = session.post(url, data=json.dumps(data))\n",
    "\n",
    "print(response)\n",
    "print(response.json())"
   ]
  },
  {
   "cell_type": "code",
   "execution_count": 58,
   "metadata": {},
   "outputs": [
    {
     "name": "stdout",
     "output_type": "stream",
     "text": [
      "<Response [200]>\n",
      "{'outputs': [[0.536811173]]}\n"
     ]
    }
   ],
   "source": [
    "\n",
    "url = \"http://localhost/linear_1d\"\n",
    "\n",
    "\n",
    "with requests.Session() as session:\n",
    "    response = session.post(url, data=json.dumps(data))\n",
    "\n",
    "print(response)\n",
    "print(response.json())"
   ]
  },
  {
   "cell_type": "code",
   "execution_count": 63,
   "metadata": {},
   "outputs": [
    {
     "name": "stdout",
     "output_type": "stream",
     "text": [
      "<Response [200]>\n",
      "{'outputs': [[0.998019, 0.279553771]]}\n"
     ]
    }
   ],
   "source": [
    "\n",
    "url = \"http://localhost/matern32_1d\"\n",
    "\n",
    "\n",
    "with requests.Session() as session:\n",
    "    response = session.post(url, data=json.dumps(data))\n",
    "\n",
    "print(response)\n",
    "print(response.json())"
   ]
  },
  {
   "cell_type": "code",
   "execution_count": 64,
   "metadata": {},
   "outputs": [
    {
     "name": "stdout",
     "output_type": "stream",
     "text": [
      "<Response [200]>\n",
      "{'outputs': [[0.99150753, 0.327973396]]}\n"
     ]
    }
   ],
   "source": [
    "\n",
    "url = \"http://localhost/matern12_1d\"\n",
    "\n",
    "\n",
    "with requests.Session() as session:\n",
    "    response = session.post(url, data=json.dumps(data))\n",
    "\n",
    "print(response)\n",
    "print(response.json())"
   ]
  },
  {
   "cell_type": "code",
   "execution_count": 66,
   "metadata": {},
   "outputs": [],
   "source": [
    "y  = np.random.rand(1,300)\n",
    "y = y.reshape(1, -1)\n",
    "data = {\"inputs\": y.tolist()}"
   ]
  },
  {
   "cell_type": "code",
   "execution_count": 67,
   "metadata": {},
   "outputs": [
    {
     "name": "stdout",
     "output_type": "stream",
     "text": [
      "<Response [200]>\n",
      "{'outputs': [[-1.54028571, 2.69877577]]}\n"
     ]
    }
   ],
   "source": [
    "\n",
    "url = \"http://localhost/stationary_kernel_predict\"\n",
    "\n",
    "\n",
    "with requests.Session() as session:\n",
    "    response = session.post(url, data=json.dumps(data))\n",
    "\n",
    "print(response)\n",
    "print(response.json())"
   ]
  },
  {
   "cell_type": "code",
   "execution_count": null,
   "metadata": {},
   "outputs": [],
   "source": []
  }
 ],
 "metadata": {
  "kernelspec": {
   "display_name": "Python 3",
   "language": "python",
   "name": "python3"
  },
  "language_info": {
   "codemirror_mode": {
    "name": "ipython",
    "version": 3
   },
   "file_extension": ".py",
   "mimetype": "text/x-python",
   "name": "python",
   "nbconvert_exporter": "python",
   "pygments_lexer": "ipython3",
   "version": "3.7.4"
  }
 },
 "nbformat": 4,
 "nbformat_minor": 2
}
