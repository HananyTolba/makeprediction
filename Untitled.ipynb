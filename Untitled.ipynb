{
 "cells": [
  {
   "cell_type": "code",
   "execution_count": 1,
   "id": "4af25794",
   "metadata": {},
   "outputs": [],
   "source": [
    "from requests.packages.urllib3.util.retry import Retry\n",
    "from requests.adapters import HTTPAdapter\n",
    "\n",
    "def requests_retry_session(\n",
    "        retries=3,\n",
    "        backoff_factor=0.3,\n",
    "        status_forcelist=(500, 502, 504),\n",
    "        session=None):\n",
    "        session = session or requests.Session()\n",
    "        retry = Retry(\n",
    "            total=retries,\n",
    "            read=retries,\n",
    "            connect=retries,\n",
    "            backoff_factor=backoff_factor,\n",
    "            status_forcelist=status_forcelist,\n",
    "            method_whitelist=frozenset(['GET', 'POST']),\n",
    "        )\n",
    "        adapter = HTTPAdapter(max_retries=retry)\n",
    "        session.mount('http://', adapter)\n",
    "        session.mount('https://', adapter)\n",
    "        return session"
   ]
  },
  {
   "cell_type": "code",
   "execution_count": 5,
   "id": "0c2fce89",
   "metadata": {},
   "outputs": [
    {
     "name": "stderr",
     "output_type": "stream",
     "text": [
      "/var/folders/sm/sh2hr4bs1cn2hm139cdszzbh0000gn/T/ipykernel_97069/2263548313.py:7: DeprecationWarning: Using 'method_whitelist' with Retry is deprecated and will be removed in v2.0. Use 'allowed_methods' instead\n",
      "  retry = Retry(\n"
     ]
    },
    {
     "name": "stdout",
     "output_type": "stream",
     "text": [
      "Error making request: 404 Client Error: Not Found for url: http://periodic.gprts.info/periodic_model/v1/models/periodic_model:predict\n",
      "None\n"
     ]
    }
   ],
   "source": [
    "import requests\n",
    "from requests.adapters import HTTPAdapter\n",
    "from requests.packages.urllib3.util.retry import Retry\n",
    "url = \"http://periodic.gprts.info/periodic_model/v1/models/periodic_model:predict\"\n",
    "def make_request():\n",
    "    try:\n",
    "        with requests_retry_session() as session:\n",
    "            response = session.get(url)\n",
    "            response.raise_for_status()\n",
    "            return response.content\n",
    "    except requests.exceptions.RequestException as err:\n",
    "        print(f\"Error making request: {err}\")\n",
    "\n",
    "response_content = make_request()\n",
    "print(response_content)\n"
   ]
  },
  {
   "cell_type": "code",
   "execution_count": 2,
   "id": "e9346a4f",
   "metadata": {},
   "outputs": [],
   "source": []
  },
  {
   "cell_type": "code",
   "execution_count": null,
   "id": "1da01406",
   "metadata": {},
   "outputs": [],
   "source": []
  }
 ],
 "metadata": {
  "kernelspec": {
   "display_name": "Python 3 (ipykernel)",
   "language": "python",
   "name": "python3"
  },
  "language_info": {
   "codemirror_mode": {
    "name": "ipython",
    "version": 3
   },
   "file_extension": ".py",
   "mimetype": "text/x-python",
   "name": "python",
   "nbconvert_exporter": "python",
   "pygments_lexer": "ipython3",
   "version": "3.8.16"
  }
 },
 "nbformat": 4,
 "nbformat_minor": 5
}
